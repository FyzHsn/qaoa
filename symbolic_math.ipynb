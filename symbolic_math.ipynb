{
 "cells": [
  {
   "cell_type": "code",
   "execution_count": 73,
   "metadata": {},
   "outputs": [],
   "source": [
    "import sympy as sym\n",
    "from sympy import Matrix\n",
    "from sympy import exp\n",
    "from sympy import re, im, I, E, symbols\n",
    "from sympy.physics.quantum import TensorProduct\n",
    "from sympy.physics.quantum.dagger import Dagger"
   ]
  },
  {
   "cell_type": "code",
   "execution_count": 74,
   "metadata": {},
   "outputs": [],
   "source": [
    "z = Matrix([[1, 0], [0, -1]])\n",
    "y = Matrix([[0, -I], [I, 0]])\n",
    "identity = Matrix([[1, 0], [0, 1]]) "
   ]
  },
  {
   "cell_type": "code",
   "execution_count": 75,
   "metadata": {},
   "outputs": [],
   "source": [
    "gamma = symbols('gamma', real=True)\n",
    "beta = symbols('beta', real=True)"
   ]
  },
  {
   "cell_type": "code",
   "execution_count": 76,
   "metadata": {},
   "outputs": [],
   "source": [
    "vec = Matrix([exp(-3*I*gamma), exp(-I*gamma), exp(-I*gamma), exp(-I*gamma), exp(-I*gamma), exp(-I*gamma), exp(-I*gamma), exp(-3*I*gamma)]) / sym.sqrt(2**3)\n",
    "vec_c = sym.conjugate(vec.transpose())"
   ]
  },
  {
   "cell_type": "code",
   "execution_count": 77,
   "metadata": {},
   "outputs": [
    {
     "data": {
      "text/latex": [
       "$\\displaystyle \\left[\\begin{matrix}\\cos^{2}{\\left(2 \\beta \\right)} & 0 & - i \\sin{\\left(2 \\beta \\right)} \\cos{\\left(2 \\beta \\right)} & 0 & - i \\sin{\\left(2 \\beta \\right)} \\cos{\\left(2 \\beta \\right)} & 0 & - \\sin^{2}{\\left(2 \\beta \\right)} & 0\\\\0 & \\cos^{2}{\\left(2 \\beta \\right)} & 0 & - i \\sin{\\left(2 \\beta \\right)} \\cos{\\left(2 \\beta \\right)} & 0 & - i \\sin{\\left(2 \\beta \\right)} \\cos{\\left(2 \\beta \\right)} & 0 & - \\sin^{2}{\\left(2 \\beta \\right)}\\\\i \\sin{\\left(2 \\beta \\right)} \\cos{\\left(2 \\beta \\right)} & 0 & - \\cos^{2}{\\left(2 \\beta \\right)} & 0 & \\sin^{2}{\\left(2 \\beta \\right)} & 0 & i \\sin{\\left(2 \\beta \\right)} \\cos{\\left(2 \\beta \\right)} & 0\\\\0 & i \\sin{\\left(2 \\beta \\right)} \\cos{\\left(2 \\beta \\right)} & 0 & - \\cos^{2}{\\left(2 \\beta \\right)} & 0 & \\sin^{2}{\\left(2 \\beta \\right)} & 0 & i \\sin{\\left(2 \\beta \\right)} \\cos{\\left(2 \\beta \\right)}\\\\i \\sin{\\left(2 \\beta \\right)} \\cos{\\left(2 \\beta \\right)} & 0 & \\sin^{2}{\\left(2 \\beta \\right)} & 0 & - \\cos^{2}{\\left(2 \\beta \\right)} & 0 & i \\sin{\\left(2 \\beta \\right)} \\cos{\\left(2 \\beta \\right)} & 0\\\\0 & i \\sin{\\left(2 \\beta \\right)} \\cos{\\left(2 \\beta \\right)} & 0 & \\sin^{2}{\\left(2 \\beta \\right)} & 0 & - \\cos^{2}{\\left(2 \\beta \\right)} & 0 & i \\sin{\\left(2 \\beta \\right)} \\cos{\\left(2 \\beta \\right)}\\\\- \\sin^{2}{\\left(2 \\beta \\right)} & 0 & - i \\sin{\\left(2 \\beta \\right)} \\cos{\\left(2 \\beta \\right)} & 0 & - i \\sin{\\left(2 \\beta \\right)} \\cos{\\left(2 \\beta \\right)} & 0 & \\cos^{2}{\\left(2 \\beta \\right)} & 0\\\\0 & - \\sin^{2}{\\left(2 \\beta \\right)} & 0 & - i \\sin{\\left(2 \\beta \\right)} \\cos{\\left(2 \\beta \\right)} & 0 & - i \\sin{\\left(2 \\beta \\right)} \\cos{\\left(2 \\beta \\right)} & 0 & \\cos^{2}{\\left(2 \\beta \\right)}\\end{matrix}\\right]$"
      ],
      "text/plain": [
       "Matrix([\n",
       "[           cos(2*beta)**2,                         0, -I*sin(2*beta)*cos(2*beta),                          0, -I*sin(2*beta)*cos(2*beta),                          0,           -sin(2*beta)**2,                         0],\n",
       "[                        0,            cos(2*beta)**2,                          0, -I*sin(2*beta)*cos(2*beta),                          0, -I*sin(2*beta)*cos(2*beta),                         0,           -sin(2*beta)**2],\n",
       "[I*sin(2*beta)*cos(2*beta),                         0,            -cos(2*beta)**2,                          0,             sin(2*beta)**2,                          0, I*sin(2*beta)*cos(2*beta),                         0],\n",
       "[                        0, I*sin(2*beta)*cos(2*beta),                          0,            -cos(2*beta)**2,                          0,             sin(2*beta)**2,                         0, I*sin(2*beta)*cos(2*beta)],\n",
       "[I*sin(2*beta)*cos(2*beta),                         0,             sin(2*beta)**2,                          0,            -cos(2*beta)**2,                          0, I*sin(2*beta)*cos(2*beta),                         0],\n",
       "[                        0, I*sin(2*beta)*cos(2*beta),                          0,             sin(2*beta)**2,                          0,            -cos(2*beta)**2,                         0, I*sin(2*beta)*cos(2*beta)],\n",
       "[          -sin(2*beta)**2,                         0, -I*sin(2*beta)*cos(2*beta),                          0, -I*sin(2*beta)*cos(2*beta),                          0,            cos(2*beta)**2,                         0],\n",
       "[                        0,           -sin(2*beta)**2,                          0, -I*sin(2*beta)*cos(2*beta),                          0, -I*sin(2*beta)*cos(2*beta),                         0,            cos(2*beta)**2]])"
      ]
     },
     "execution_count": 77,
     "metadata": {},
     "output_type": "execute_result"
    }
   ],
   "source": [
    "main = sym.sin(2*beta)**2 * TensorProduct(y, y, identity) + sym.cos(2*beta)**2 * TensorProduct(z, z, identity) + sym.cos(2*beta)*sym.sin(2*beta) * (TensorProduct(y, z, identity) + TensorProduct(z, y, identity))\n",
    "main"
   ]
  },
  {
   "cell_type": "code",
   "execution_count": 78,
   "metadata": {},
   "outputs": [
    {
     "data": {
      "text/latex": [
       "$\\displaystyle \\left[\\begin{matrix}- \\frac{e^{2 i \\gamma} \\sin^{2}{\\left(2 \\beta \\right)}}{4} - \\frac{i e^{2 i \\gamma} \\sin{\\left(2 \\beta \\right)} \\cos{\\left(2 \\beta \\right)}}{2} + \\frac{\\sin^{2}{\\left(2 \\beta \\right)}}{2} - \\frac{e^{- 2 i \\gamma} \\sin^{2}{\\left(2 \\beta \\right)}}{4} + \\frac{i e^{- 2 i \\gamma} \\sin{\\left(2 \\beta \\right)} \\cos{\\left(2 \\beta \\right)}}{2}\\end{matrix}\\right]$"
      ],
      "text/plain": [
       "Matrix([[-exp(2*I*gamma)*sin(2*beta)**2/4 - I*exp(2*I*gamma)*sin(2*beta)*cos(2*beta)/2 + sin(2*beta)**2/2 - exp(-2*I*gamma)*sin(2*beta)**2/4 + I*exp(-2*I*gamma)*sin(2*beta)*cos(2*beta)/2]])"
      ]
     },
     "execution_count": 78,
     "metadata": {},
     "output_type": "execute_result"
    }
   ],
   "source": [
    "sym.expand(vec_c * main * vec)"
   ]
  },
  {
   "cell_type": "code",
   "execution_count": null,
   "metadata": {},
   "outputs": [],
   "source": []
  },
  {
   "cell_type": "code",
   "execution_count": null,
   "metadata": {},
   "outputs": [],
   "source": []
  }
 ],
 "metadata": {
  "kernelspec": {
   "display_name": "Python 3",
   "language": "python",
   "name": "python3"
  },
  "language_info": {
   "codemirror_mode": {
    "name": "ipython",
    "version": 3
   },
   "file_extension": ".py",
   "mimetype": "text/x-python",
   "name": "python",
   "nbconvert_exporter": "python",
   "pygments_lexer": "ipython3",
   "version": "3.8.2"
  }
 },
 "nbformat": 4,
 "nbformat_minor": 4
}
